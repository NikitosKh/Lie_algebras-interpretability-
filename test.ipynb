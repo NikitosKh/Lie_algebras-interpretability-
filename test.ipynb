{
 "cells": [
  {
   "cell_type": "code",
   "execution_count": 4,
   "metadata": {},
   "outputs": [],
   "source": [
    "from merge import MergedModel, MergedModelArguments\n",
    "from transformers import AutoModelForCausalLM, AutoTokenizer\n",
    "import torch\n",
    "from transformers import TrainingArguments\n",
    "from sae_direction_alignment import AutoencoderMerged\n",
    "\n",
    "device = torch.device('cuda' if torch.cuda.is_available() else 'cpu')\n",
    "\n",
    "class CustomEvaluateArguments(TrainingArguments):\n",
    "    def __init__(self, *args, multiplier=1, d_models=[], lambda_l1=1, lambda_cos=2, **kwargs):\n",
    "        super().__init__(*args, **kwargs)\n",
    "        self.multiplier = multiplier\n",
    "        self.d_models = d_models\n",
    "        self.lambda_l1 = lambda_l1\n",
    "        self.lambda_cos = lambda_cos\n",
    "\n",
    "def load_merged_model(model_path, cfg, models, layer, device):\n",
    "    merged_model = AutoencoderMerged(models, cfg, layer=layer, device=device)\n",
    "    merged_model.load_state_dict(torch.load(model_path, map_location=device))\n",
    "    merged_model.eval()\n",
    "    return merged_model\n",
    "  \n",
    "cfg = CustomEvaluateArguments(\n",
    "    output_dir='./results',\n",
    "    multiplier=70,\n",
    "    d_models=[768, 768],\n",
    "    lambda_l1=0.5,\n",
    "    lambda_cos=0.5,\n",
    ")\n",
    "\n",
    "model_name1 = \"Sharathhebbar24/math_gpt2_sft\"\n",
    "tokenizer1 = AutoTokenizer.from_pretrained(model_name1)\n",
    "model1 = AutoModelForCausalLM.from_pretrained(model_name1).to(device)\n",
    "\n",
    "model_name2 = \"yoavgur/gpt2-bash-history-baseline\"\n",
    "tokenizer2 = AutoTokenizer.from_pretrained(model_name2)\n",
    "model2 = AutoModelForCausalLM.from_pretrained(model_name2).to(device)\n",
    "\n",
    "merged_model = load_merged_model('./results/model_epoch_-1_layer5_loss_88489494.0000.pt', cfg, [model1, model2], layer=-2, device=device)\n",
    "\n",
    "mergedcfg=MergedModelArguments()\n",
    "\n",
    "model=MergedModel([model1, model2], mergedcfg, device, [merged_model])\n",
    "\n",
    "test_input = tokenizer1([\"That beauty still may live in thine or thee. I\", \"This is another test\"], return_tensors='pt', padding=True)['input_ids'].to(device)\n",
    "\n",
    "ans=model.generate(test_input, max_tokens=30)\n",
    "\n",
    "print(tokenizer1.decode(ans[0]))\n",
    "print(tokenizer1.decode(ans[1]))"
   ]
  }
 ],
 "metadata": {
  "kernelspec": {
   "display_name": "base",
   "language": "python",
   "name": "python3"
  },
  "language_info": {
   "codemirror_mode": {
    "name": "ipython",
    "version": 3
   },
   "file_extension": ".py",
   "mimetype": "text/x-python",
   "name": "python",
   "nbconvert_exporter": "python",
   "pygments_lexer": "ipython3",
   "version": "3.10.14"
  }
 },
 "nbformat": 4,
 "nbformat_minor": 2
}
