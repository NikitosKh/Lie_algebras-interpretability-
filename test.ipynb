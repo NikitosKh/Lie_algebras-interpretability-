{
  "cells": [
    {
      "cell_type": "code",
      "execution_count": 1,
      "metadata": {
        "colab": {
          "base_uri": "https://localhost:8080/"
        },
        "id": "MrzLXIKCA3BD",
        "outputId": "8b096564-0598-4d1e-c9d6-5a97c0cb9113"
      },
      "outputs": [
        {
          "output_type": "stream",
          "name": "stdout",
          "text": [
            "Drive already mounted at /content/drive; to attempt to forcibly remount, call drive.mount(\"/content/drive\", force_remount=True).\n",
            "/content/drive/MyDrive/project2/Lie_algebras-interpretability-\n"
          ]
        }
      ],
      "source": [
        "from google.colab import drive\n",
        "drive.mount(\"/content/drive\")\n",
        "\n",
        "%cd \"/content/drive/MyDrive/project2/Lie_algebras-interpretability-/\"\n",
        "\n",
        "%load_ext autoreload\n",
        "%autoreload 2"
      ]
    },
    {
      "cell_type": "code",
      "source": [
        "pip install wandb"
      ],
      "metadata": {
        "colab": {
          "base_uri": "https://localhost:8080/"
        },
        "id": "vMiUKfOCGZ3F",
        "outputId": "980f47a1-a39f-47f7-c7a1-d40a0c431e98"
      },
      "execution_count": 2,
      "outputs": [
        {
          "output_type": "stream",
          "name": "stdout",
          "text": [
            "Requirement already satisfied: wandb in /usr/local/lib/python3.10/dist-packages (0.17.6)\n",
            "Requirement already satisfied: click!=8.0.0,>=7.1 in /usr/local/lib/python3.10/dist-packages (from wandb) (8.1.7)\n",
            "Requirement already satisfied: docker-pycreds>=0.4.0 in /usr/local/lib/python3.10/dist-packages (from wandb) (0.4.0)\n",
            "Requirement already satisfied: gitpython!=3.1.29,>=1.0.0 in /usr/local/lib/python3.10/dist-packages (from wandb) (3.1.43)\n",
            "Requirement already satisfied: platformdirs in /usr/local/lib/python3.10/dist-packages (from wandb) (4.2.2)\n",
            "Requirement already satisfied: protobuf!=4.21.0,<6,>=3.19.0 in /usr/local/lib/python3.10/dist-packages (from wandb) (3.20.3)\n",
            "Requirement already satisfied: psutil>=5.0.0 in /usr/local/lib/python3.10/dist-packages (from wandb) (5.9.5)\n",
            "Requirement already satisfied: pyyaml in /usr/local/lib/python3.10/dist-packages (from wandb) (6.0.2)\n",
            "Requirement already satisfied: requests<3,>=2.0.0 in /usr/local/lib/python3.10/dist-packages (from wandb) (2.32.3)\n",
            "Requirement already satisfied: sentry-sdk>=1.0.0 in /usr/local/lib/python3.10/dist-packages (from wandb) (2.12.0)\n",
            "Requirement already satisfied: setproctitle in /usr/local/lib/python3.10/dist-packages (from wandb) (1.3.3)\n",
            "Requirement already satisfied: setuptools in /usr/local/lib/python3.10/dist-packages (from wandb) (71.0.4)\n",
            "Requirement already satisfied: six>=1.4.0 in /usr/local/lib/python3.10/dist-packages (from docker-pycreds>=0.4.0->wandb) (1.16.0)\n",
            "Requirement already satisfied: gitdb<5,>=4.0.1 in /usr/local/lib/python3.10/dist-packages (from gitpython!=3.1.29,>=1.0.0->wandb) (4.0.11)\n",
            "Requirement already satisfied: charset-normalizer<4,>=2 in /usr/local/lib/python3.10/dist-packages (from requests<3,>=2.0.0->wandb) (3.3.2)\n",
            "Requirement already satisfied: idna<4,>=2.5 in /usr/local/lib/python3.10/dist-packages (from requests<3,>=2.0.0->wandb) (3.7)\n",
            "Requirement already satisfied: urllib3<3,>=1.21.1 in /usr/local/lib/python3.10/dist-packages (from requests<3,>=2.0.0->wandb) (2.0.7)\n",
            "Requirement already satisfied: certifi>=2017.4.17 in /usr/local/lib/python3.10/dist-packages (from requests<3,>=2.0.0->wandb) (2024.7.4)\n",
            "Requirement already satisfied: smmap<6,>=3.0.1 in /usr/local/lib/python3.10/dist-packages (from gitdb<5,>=4.0.1->gitpython!=3.1.29,>=1.0.0->wandb) (5.0.1)\n"
          ]
        }
      ]
    },
    {
      "cell_type": "code",
      "source": [
        "from train_sae import main\n",
        "\n",
        "model=main()"
      ],
      "metadata": {
        "colab": {
          "base_uri": "https://localhost:8080/",
          "height": 419
        },
        "id": "U9O_9HT2IdV8",
        "outputId": "183b150b-a123-49af-edb7-8c475284024b"
      },
      "execution_count": null,
      "outputs": [
        {
          "output_type": "stream",
          "name": "stdout",
          "text": [
            "Using device: cpu\n",
            "Number of trainable parameters: 165259776\n",
            "autoencoders.0.W_encode: torch.Size([768, 53760])\n",
            "autoencoders.0.bias_encode: torch.Size([53760])\n",
            "autoencoders.0.W_decode: torch.Size([53760, 768])\n",
            "autoencoders.0.bias_decode: torch.Size([768])\n",
            "autoencoders.1.W_encode: torch.Size([768, 53760])\n",
            "autoencoders.1.bias_encode: torch.Size([53760])\n",
            "autoencoders.1.W_decode: torch.Size([53760, 768])\n",
            "autoencoders.1.bias_decode: torch.Size([768])\n",
            "Losses: (tensor(2291.5981, grad_fn=<DivBackward0>), (tensor(1.8782, grad_fn=<DivBackward0>), tensor(2290.4927, grad_fn=<DivBackward0>), tensor(0.6667, grad_fn=<DivBackward0>)))\n"
          ]
        },
        {
          "output_type": "display_data",
          "data": {
            "text/plain": [
              "<IPython.core.display.Javascript object>"
            ],
            "application/javascript": [
              "\n",
              "        window._wandbApiKey = new Promise((resolve, reject) => {\n",
              "            function loadScript(url) {\n",
              "            return new Promise(function(resolve, reject) {\n",
              "                let newScript = document.createElement(\"script\");\n",
              "                newScript.onerror = reject;\n",
              "                newScript.onload = resolve;\n",
              "                document.body.appendChild(newScript);\n",
              "                newScript.src = url;\n",
              "            });\n",
              "            }\n",
              "            loadScript(\"https://cdn.jsdelivr.net/npm/postmate/build/postmate.min.js\").then(() => {\n",
              "            const iframe = document.createElement('iframe')\n",
              "            iframe.style.cssText = \"width:0;height:0;border:none\"\n",
              "            document.body.appendChild(iframe)\n",
              "            const handshake = new Postmate({\n",
              "                container: iframe,\n",
              "                url: 'https://wandb.ai/authorize'\n",
              "            });\n",
              "            const timeout = setTimeout(() => reject(\"Couldn't auto authenticate\"), 5000)\n",
              "            handshake.then(function(child) {\n",
              "                child.on('authorize', data => {\n",
              "                    clearTimeout(timeout)\n",
              "                    resolve(data)\n",
              "                });\n",
              "            });\n",
              "            })\n",
              "        });\n",
              "    "
            ]
          },
          "metadata": {}
        },
        {
          "output_type": "stream",
          "name": "stderr",
          "text": [
            "\u001b[34m\u001b[1mwandb\u001b[0m: Logging into wandb.ai. (Learn how to deploy a W&B server locally: https://wandb.me/wandb-server)\n",
            "\u001b[34m\u001b[1mwandb\u001b[0m: You can find your API key in your browser here: https://wandb.ai/authorize\n",
            "wandb: Paste an API key from your profile and hit enter, or press ctrl+c to quit:"
          ]
        },
        {
          "name": "stdout",
          "output_type": "stream",
          "text": [
            " ··········\n"
          ]
        },
        {
          "output_type": "stream",
          "name": "stderr",
          "text": [
            "\u001b[34m\u001b[1mwandb\u001b[0m: Appending key for api.wandb.ai to your netrc file: /root/.netrc\n"
          ]
        },
        {
          "output_type": "display_data",
          "data": {
            "text/plain": [
              "<IPython.core.display.HTML object>"
            ],
            "text/html": [
              "Tracking run with wandb version 0.17.6"
            ]
          },
          "metadata": {}
        },
        {
          "output_type": "display_data",
          "data": {
            "text/plain": [
              "<IPython.core.display.HTML object>"
            ],
            "text/html": [
              "Run data is saved locally in <code>/content/drive/MyDrive/project2/Lie_algebras-interpretability-/wandb/run-20240810_182436-034v0y54</code>"
            ]
          },
          "metadata": {}
        },
        {
          "output_type": "display_data",
          "data": {
            "text/plain": [
              "<IPython.core.display.HTML object>"
            ],
            "text/html": [
              "Syncing run <strong><a href='https://wandb.ai/interpret-ai/model_merging/runs/034v0y54' target=\"_blank\">soft-dragon-58</a></strong> to <a href='https://wandb.ai/interpret-ai/model_merging' target=\"_blank\">Weights & Biases</a> (<a href='https://wandb.me/run' target=\"_blank\">docs</a>)<br/>"
            ]
          },
          "metadata": {}
        },
        {
          "output_type": "display_data",
          "data": {
            "text/plain": [
              "<IPython.core.display.HTML object>"
            ],
            "text/html": [
              " View project at <a href='https://wandb.ai/interpret-ai/model_merging' target=\"_blank\">https://wandb.ai/interpret-ai/model_merging</a>"
            ]
          },
          "metadata": {}
        },
        {
          "output_type": "display_data",
          "data": {
            "text/plain": [
              "<IPython.core.display.HTML object>"
            ],
            "text/html": [
              " View run at <a href='https://wandb.ai/interpret-ai/model_merging/runs/034v0y54' target=\"_blank\">https://wandb.ai/interpret-ai/model_merging/runs/034v0y54</a>"
            ]
          },
          "metadata": {}
        }
      ]
    },
    {
      "cell_type": "code",
      "source": [
        "import torch\n",
        "from torch.utils.data import Dataset, DataLoader\n",
        "from merge import MergedModel\n",
        "import numpy as np\n",
        "from transformers import AutoTokenizer, AutoModelForCausalLM\n",
        "from transformers import TrainingArguments\n",
        "from sae_direction_alignment import AutoencoderMerged\n",
        "from evaluate import MergedModelArguments\n",
        "\n",
        "def get_token_autoencoder_representation(token, merged_model, dataset, layer, device):\n",
        "    #  token: int, token to investigate\n",
        "    #  merged_model: MergedModel, model to use for representation\n",
        "    #  dataset: Dataloader, dataset to avergae the representation over\n",
        "    #  returns: (torch.Tensor(num_of_models), latent_dim), (average representation of the token for each model merging,\n",
        "    #  average representation of the token for the merged model (essentialy the average over the first output))\n",
        "    res=(None, None)\n",
        "    num_of_appearances_so_far=0\n",
        "\n",
        "    for batch in dataset:\n",
        "        with torch.no_grad():\n",
        "            input_ids = batch.to(device)\n",
        "            if (input_ids == token).any():\n",
        "                indices = (input_ids == token).nonzero(as_tuple=True)\n",
        "                print(input_ids)\n",
        "                indices_tuples = list(zip(*indices))\n",
        "                print(indices_tuples)\n",
        "                output = merged_model(batch, return_embeddings=True)[1][layer]\n",
        "                if res[0] is None:\n",
        "                    res = [torch.zeros(len(output[0]), output[0][0].shape[-1]),\n",
        "                           torch.zeros(output[0][0].shape[-1])]\n",
        "                print()\n",
        "                print(output[0].shape, output[1].shape)\n",
        "                output = (torch.cat([sum([output[0][j][index] for index in indices_tuples]).unsqueeze(0) for j in range(len(merged_model.models))], dim=0),\n",
        "                          sum([output[1][index] for index in indices_tuples]))\n",
        "                print(output[0])\n",
        "                res[0]=res[0]*num_of_appearances_so_far + output[0]/(num_of_appearances_so_far+len(indices_tuples))\n",
        "                res[1]=res[1]*num_of_appearances_so_far + output[1]/(num_of_appearances_so_far+len(indices_tuples))\n",
        "                num_of_appearances_so_far+=len(indices_tuples)\n",
        "\n",
        "    return res\n",
        "\n",
        "class TextDataset(Dataset):\n",
        "  def __init__(self, file_path, tokenizer, max_len):\n",
        "    super(TextDataset, self).__init__()\n",
        "    self.tokenizer = tokenizer\n",
        "    self.max_len = max_len\n",
        "    with open(file_path, 'r', encoding = 'utf-8') as file:\n",
        "      self.lines = file.readlines()\n",
        "    self.lines = [line.strip() for line in self.lines if line.strip()]\n",
        "\n",
        "  def __len__(self):\n",
        "    return len(self.lines)\n",
        "\n",
        "  def __getitem__(self, idx) :\n",
        "    line = self.lines[idx].strip()\n",
        "    encoding = self.tokenizer(line, truncation = True, max_length = self.max_len, padding = 'max_length', return_tensors = 'pt')\n",
        "    return encoding['input_ids'].squeeze()\n",
        "\n",
        "\n",
        "def load_dataset(file_path, tokenizer, max_len, batch_size):\n",
        "    dataset = TextDataset(file_path, tokenizer, max_len)\n",
        "    dataloader = DataLoader(dataset, batch_size=batch_size, shuffle=False)\n",
        "    return dataloader\n",
        "\n",
        "def load_merged_model(model_path, cfg, models, layer, device):\n",
        "    merged_model = AutoencoderMerged(models, cfg, layer=layer, device=device)\n",
        "    merged_model.load_state_dict(torch.load(model_path, map_location=device))\n",
        "    merged_model.eval()\n",
        "    return merged_model\n",
        "\n",
        "model_name1 = \"Sharathhebbar24/math_gpt2_sft\"\n",
        "tokenizer1 = AutoTokenizer.from_pretrained(model_name1)\n",
        "model1 = AutoModelForCausalLM.from_pretrained(model_name1).to('cpu')\n",
        "\n",
        "model_name2 = \"yoavgur/gpt2-bash-history-baseline\"\n",
        "tokenizer2 = AutoTokenizer.from_pretrained(model_name2)\n",
        "model2 = AutoModelForCausalLM.from_pretrained(model_name2).to('cpu')\n",
        "\n",
        "class CustomEvaluateArguments(TrainingArguments):\n",
        "    def __init__(self, *args, multiplier=1, d_models=[], lambda_l1=1, lambda_cos=2, **kwargs):\n",
        "        super().__init__(*args, **kwargs)\n",
        "        self.multiplier = multiplier\n",
        "        self.d_models = d_models\n",
        "        self.lambda_l1 = lambda_l1\n",
        "        self.lambda_cos = lambda_cos\n",
        "\n",
        "cfg = CustomEvaluateArguments(\n",
        "    output_dir='./results',\n",
        "    multiplier=70,\n",
        "    d_models=[768, 768],\n",
        "    lambda_l1=0.5,\n",
        "    lambda_cos=0.5,\n",
        ")\n",
        "\n",
        "\n",
        "\n",
        "res=get_token_autoencoder_representation(4, model, eval_dataloader, layer=-2, device='cpu')"
      ],
      "metadata": {
        "colab": {
          "base_uri": "https://localhost:8080/"
        },
        "id": "WZHwHHz0iDiO",
        "outputId": "b574127e-f0b6-4a92-deb9-ca152290a9a7"
      },
      "execution_count": 14,
      "outputs": [
        {
          "output_type": "stream",
          "name": "stdout",
          "text": [
            "tensor([[ 1212,   318,  3478,  7319,  8714,  1123,   284,   530,  3470,  1510,\n",
            "          7183,    11, 50256, 50256, 50256, 50256, 50256, 50256, 50256, 50256,\n",
            "         50256, 50256, 50256, 50256, 50256, 50256, 50256, 50256, 50256, 50256,\n",
            "         50256, 50256],\n",
            "        [ 4758,   318,   838,     4,   286,   262,  2938,  1271,   286,  3644,\n",
            "          2985,   416,   262,   886, 50256, 50256, 50256, 50256, 50256, 50256,\n",
            "         50256, 50256, 50256, 50256, 50256, 50256, 50256, 50256, 50256, 50256,\n",
            "         50256, 50256]])\n",
            "[(tensor(1), tensor(3))]\n",
            "\n",
            "torch.Size([2, 2, 32, 53760]) torch.Size([2, 32, 53760])\n",
            "tensor([[0.0000, 0.0000, 0.4044,  ..., 0.3695, 0.0000, 0.0000],\n",
            "        [0.0000, 0.2914, 0.0000,  ..., 0.1374, 0.0738, 0.7009]])\n"
          ]
        }
      ]
    },
    {
      "cell_type": "code",
      "source": [
        "res"
      ],
      "metadata": {
        "id": "1QAtVtncUQdE",
        "colab": {
          "base_uri": "https://localhost:8080/"
        },
        "outputId": "90c053fc-a78f-40d4-957e-000c4398f429"
      },
      "execution_count": 15,
      "outputs": [
        {
          "output_type": "execute_result",
          "data": {
            "text/plain": [
              "[tensor([[0.0000, 0.0000, 0.4044,  ..., 0.3695, 0.0000, 0.0000],\n",
              "         [0.0000, 0.2914, 0.0000,  ..., 0.1374, 0.0738, 0.7009]]),\n",
              " tensor([0.0000, 0.1457, 0.2022,  ..., 0.2535, 0.0369, 0.3505])]"
            ]
          },
          "metadata": {},
          "execution_count": 15
        }
      ]
    },
    {
      "cell_type": "code",
      "source": [
        "from evaluate import main as evaluate_main\n",
        "\n",
        "evaluate_main()"
      ],
      "metadata": {
        "colab": {
          "base_uri": "https://localhost:8080/",
          "height": 356
        },
        "id": "zmUpZznmSp_s",
        "outputId": "26cfbad0-419e-4a4b-ae0f-4e57c14356f2"
      },
      "execution_count": 16,
      "outputs": [
        {
          "output_type": "stream",
          "name": "stdout",
          "text": [
            "cpu\n"
          ]
        },
        {
          "output_type": "error",
          "ename": "TypeError",
          "evalue": "super(type, obj): obj must be an instance or subtype of type",
          "traceback": [
            "\u001b[0;31m---------------------------------------------------------------------------\u001b[0m",
            "\u001b[0;31mTypeError\u001b[0m                                 Traceback (most recent call last)",
            "\u001b[0;32m<ipython-input-16-18543ff900a9>\u001b[0m in \u001b[0;36m<cell line: 3>\u001b[0;34m()\u001b[0m\n\u001b[1;32m      1\u001b[0m \u001b[0;32mfrom\u001b[0m \u001b[0mevaluate\u001b[0m \u001b[0;32mimport\u001b[0m \u001b[0mmain\u001b[0m \u001b[0;32mas\u001b[0m \u001b[0mevaluate_main\u001b[0m\u001b[0;34m\u001b[0m\u001b[0;34m\u001b[0m\u001b[0m\n\u001b[1;32m      2\u001b[0m \u001b[0;34m\u001b[0m\u001b[0m\n\u001b[0;32m----> 3\u001b[0;31m \u001b[0mevaluate_main\u001b[0m\u001b[0;34m(\u001b[0m\u001b[0;34m)\u001b[0m\u001b[0;34m\u001b[0m\u001b[0;34m\u001b[0m\u001b[0m\n\u001b[0m",
            "\u001b[0;32m/content/drive/MyDrive/project2/Lie_algebras-interpretability-/evaluate.py\u001b[0m in \u001b[0;36mmain\u001b[0;34m()\u001b[0m\n\u001b[1;32m    103\u001b[0m     \u001b[0mmergedcfg\u001b[0m\u001b[0;34m=\u001b[0m\u001b[0mMergedModelArguments\u001b[0m\u001b[0;34m(\u001b[0m\u001b[0;34m)\u001b[0m\u001b[0;34m\u001b[0m\u001b[0;34m\u001b[0m\u001b[0m\n\u001b[1;32m    104\u001b[0m \u001b[0;34m\u001b[0m\u001b[0m\n\u001b[0;32m--> 105\u001b[0;31m     \u001b[0mmodel\u001b[0m\u001b[0;34m=\u001b[0m\u001b[0mMergedModel\u001b[0m\u001b[0;34m(\u001b[0m\u001b[0;34m[\u001b[0m\u001b[0mmodel1\u001b[0m\u001b[0;34m,\u001b[0m \u001b[0mmodel2\u001b[0m\u001b[0;34m]\u001b[0m\u001b[0;34m,\u001b[0m \u001b[0mmergedcfg\u001b[0m\u001b[0;34m,\u001b[0m \u001b[0mdevice\u001b[0m\u001b[0;34m,\u001b[0m \u001b[0;34m[\u001b[0m\u001b[0mmerged_model\u001b[0m\u001b[0;34m]\u001b[0m\u001b[0;34m)\u001b[0m\u001b[0;34m\u001b[0m\u001b[0;34m\u001b[0m\u001b[0m\n\u001b[0m\u001b[1;32m    106\u001b[0m \u001b[0;34m\u001b[0m\u001b[0m\n\u001b[1;32m    107\u001b[0m     \u001b[0mavg_loss\u001b[0m \u001b[0;34m=\u001b[0m \u001b[0mevaluate_model\u001b[0m\u001b[0;34m(\u001b[0m\u001b[0mmodel\u001b[0m\u001b[0;34m,\u001b[0m \u001b[0meval_dataloader\u001b[0m\u001b[0;34m,\u001b[0m \u001b[0mdevice\u001b[0m\u001b[0;34m)\u001b[0m\u001b[0;34m\u001b[0m\u001b[0;34m\u001b[0m\u001b[0m\n",
            "\u001b[0;32m/content/drive/MyDrive/project2/Lie_algebras-interpretability-/merge.py\u001b[0m in \u001b[0;36m__init__\u001b[0;34m(self, models, configs, device, joint_autoencoders)\u001b[0m\n\u001b[1;32m     19\u001b[0m                 \u001b[0mjoint_autoencoders\u001b[0m\u001b[0;34m,\u001b[0m\u001b[0;34m\u001b[0m\u001b[0;34m\u001b[0m\u001b[0m\n\u001b[1;32m     20\u001b[0m                 ):  \n\u001b[0;32m---> 21\u001b[0;31m       \u001b[0msuper\u001b[0m\u001b[0;34m(\u001b[0m\u001b[0mMergedModel\u001b[0m\u001b[0;34m,\u001b[0m \u001b[0mself\u001b[0m\u001b[0;34m)\u001b[0m\u001b[0;34m.\u001b[0m\u001b[0m__init__\u001b[0m\u001b[0;34m(\u001b[0m\u001b[0;34m)\u001b[0m\u001b[0;34m\u001b[0m\u001b[0;34m\u001b[0m\u001b[0m\n\u001b[0m\u001b[1;32m     22\u001b[0m       \u001b[0;32mfor\u001b[0m \u001b[0mmodel\u001b[0m \u001b[0;32min\u001b[0m \u001b[0mmodels\u001b[0m\u001b[0;34m:\u001b[0m\u001b[0;34m\u001b[0m\u001b[0;34m\u001b[0m\u001b[0m\n\u001b[1;32m     23\u001b[0m           \u001b[0mmodel\u001b[0m\u001b[0;34m=\u001b[0m\u001b[0mmodel\u001b[0m\u001b[0;34m.\u001b[0m\u001b[0mto\u001b[0m\u001b[0;34m(\u001b[0m\u001b[0mdevice\u001b[0m\u001b[0;34m)\u001b[0m\u001b[0;34m\u001b[0m\u001b[0;34m\u001b[0m\u001b[0m\n",
            "\u001b[0;31mTypeError\u001b[0m: super(type, obj): obj must be an instance or subtype of type"
          ]
        }
      ]
    },
    {
      "cell_type": "code",
      "source": [
        "from merge import MergedModel, MergedModelArguments\n",
        "from transformers import AutoModelForCausalLM, AutoTokenizer\n",
        "import torch\n",
        "from transformers import TrainingArguments\n",
        "from sae_direction_alignment import AutoencoderMerged\n",
        "\n",
        "device = torch.device('cuda' if torch.cuda.is_available() else 'cpu')\n",
        "\n",
        "class CustomEvaluateArguments(TrainingArguments):\n",
        "    def __init__(self, *args, multiplier=1, d_models=[], lambda_l1=1, lambda_cos=2, **kwargs):\n",
        "        super().__init__(*args, **kwargs)\n",
        "        self.multiplier = multiplier\n",
        "        self.d_models = d_models\n",
        "        self.lambda_l1 = lambda_l1\n",
        "        self.lambda_cos = lambda_cos\n",
        "\n",
        "def load_merged_model(model_path, cfg, models, layer, device):\n",
        "    merged_model = AutoencoderMerged(models, cfg, layer=layer, device=device)\n",
        "    merged_model.load_state_dict(torch.load(model_path, map_location=device))\n",
        "    merged_model.eval()\n",
        "    return merged_model\n",
        "\n",
        "cfg = CustomEvaluateArguments(\n",
        "    output_dir='./results',\n",
        "    multiplier=70,\n",
        "    d_models=[768, 768],\n",
        "    lambda_l1=0.5,\n",
        "    lambda_cos=0.5,\n",
        ")\n",
        "\n",
        "model_name1 = \"Sharathhebbar24/math_gpt2_sft\"\n",
        "tokenizer1 = AutoTokenizer.from_pretrained(model_name1)\n",
        "model1 = AutoModelForCausalLM.from_pretrained(model_name1).to(device)\n",
        "\n",
        "model_name2 = \"yoavgur/gpt2-bash-history-baseline\"\n",
        "tokenizer2 = AutoTokenizer.from_pretrained(model_name2)\n",
        "model2 = AutoModelForCausalLM.from_pretrained(model_name2).to(device)\n",
        "\n",
        "merged_model = load_merged_model('./results/model_epoch_-1_layer5_loss_88489494.0000.pt', cfg, [model1, model2], layer=-2, device=device)\n",
        "\n",
        "mergedcfg=MergedModelArguments()\n",
        "\n",
        "model=MergedModel([model1, model2], mergedcfg, device, [merged_model])\n",
        "\n",
        "test_input = tokenizer1([\"That beauty still may live in thine or thee. I\", \"This is another test\"], return_tensors='pt', padding=True)['input_ids'].to(device)\n",
        "\n",
        "ans=model.generate(test_input, max_tokens=30)\n",
        "\n",
        "print(tokenizer1.decode(ans[0]))\n",
        "print(tokenizer1.decode(ans[1]))"
      ],
      "metadata": {
        "colab": {
          "base_uri": "https://localhost:8080/"
        },
        "id": "kMysiW91F2IX",
        "outputId": "73e880ca-0c8b-4924-8358-aee636000ee9"
      },
      "execution_count": 4,
      "outputs": [
        {
          "output_type": "stream",
          "name": "stdout",
          "text": [
            " have a daughter, and she is a beautiful and well-liked girl.\n",
            "             \n",
            "|\n",
            "\n",
            "The answer is: \n",
            "\n",
            "                    \n"
          ]
        }
      ]
    }
  ],
  "metadata": {
    "kernelspec": {
      "display_name": "Python 3",
      "name": "python3"
    },
    "language_info": {
      "codemirror_mode": {
        "name": "ipython",
        "version": 3
      },
      "file_extension": ".py",
      "mimetype": "text/x-python",
      "name": "python",
      "nbconvert_exporter": "python",
      "pygments_lexer": "ipython3",
      "version": "3.10.14"
    },
    "colab": {
      "provenance": []
    }
  },
  "nbformat": 4,
  "nbformat_minor": 0
}